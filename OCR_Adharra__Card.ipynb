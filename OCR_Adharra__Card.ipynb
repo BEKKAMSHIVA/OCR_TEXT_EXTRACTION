{
  "nbformat": 4,
  "nbformat_minor": 0,
  "metadata": {
    "colab": {
      "provenance": [],
      "authorship_tag": "ABX9TyOCOQoKs5Y9JMqjB/M1iBUK",
      "include_colab_link": true
    },
    "kernelspec": {
      "name": "python3",
      "display_name": "Python 3"
    },
    "language_info": {
      "name": "python"
    }
  },
  "cells": [
    {
      "cell_type": "markdown",
      "metadata": {
        "id": "view-in-github",
        "colab_type": "text"
      },
      "source": [
        "<a href=\"https://colab.research.google.com/github/BEKKAMSHIVA/OCR_TEXT_EXTRACTION/blob/main/OCR_Adharra__Card.ipynb\" target=\"_parent\"><img src=\"https://colab.research.google.com/assets/colab-badge.svg\" alt=\"Open In Colab\"/></a>"
      ]
    },
    {
      "cell_type": "markdown",
      "source": [
        "#Environment Setup"
      ],
      "metadata": {
        "id": "B-Z6UP58gWsZ"
      }
    },
    {
      "cell_type": "code",
      "source": [
        " #These libraries are used to set up the environment for extracting text from images using OCR.\n",
        "!pip install pytesseract opencv-python\n",
        "!sudo apt-get install -y tesseract-ocr"
      ],
      "metadata": {
        "colab": {
          "base_uri": "https://localhost:8080/"
        },
        "id": "Mym71YP1Z5_e",
        "outputId": "6888bd02-60a1-4e93-bb83-e90eb722516e"
      },
      "execution_count": 1,
      "outputs": [
        {
          "output_type": "stream",
          "name": "stdout",
          "text": [
            "Collecting pytesseract\n",
            "  Downloading pytesseract-0.3.13-py3-none-any.whl.metadata (11 kB)\n",
            "Requirement already satisfied: opencv-python in /usr/local/lib/python3.11/dist-packages (4.11.0.86)\n",
            "Requirement already satisfied: packaging>=21.3 in /usr/local/lib/python3.11/dist-packages (from pytesseract) (24.2)\n",
            "Requirement already satisfied: Pillow>=8.0.0 in /usr/local/lib/python3.11/dist-packages (from pytesseract) (11.2.1)\n",
            "Requirement already satisfied: numpy>=1.21.2 in /usr/local/lib/python3.11/dist-packages (from opencv-python) (2.0.2)\n",
            "Downloading pytesseract-0.3.13-py3-none-any.whl (14 kB)\n",
            "Installing collected packages: pytesseract\n",
            "Successfully installed pytesseract-0.3.13\n",
            "Reading package lists... Done\n",
            "Building dependency tree... Done\n",
            "Reading state information... Done\n",
            "tesseract-ocr is already the newest version (4.1.1-2.1build1).\n",
            "0 upgraded, 0 newly installed, 0 to remove and 35 not upgraded.\n"
          ]
        }
      ]
    },
    {
      "cell_type": "markdown",
      "source": [
        "#Upload and Validate .jpg Files"
      ],
      "metadata": {
        "id": "VUrtaetBiH3x"
      }
    },
    {
      "cell_type": "code",
      "source": [
        "#Importing Required Libraries\n",
        "import cv2\n",
        "import pytesseract\n",
        "from google.colab import files"
      ],
      "metadata": {
        "id": "D27Gqq8iifTB"
      },
      "execution_count": 2,
      "outputs": []
    },
    {
      "cell_type": "code",
      "source": [
        "# only jpg format files need to uploaded here\n",
        "from google.colab import files\n",
        "uploaded = files.upload()\n",
        "if len(uploaded) == 0:\n",
        "    print(\"No addhar card is not uploaded and Skipping this process.\")\n",
        "else:\n",
        "    file_name = next(iter(uploaded))\n",
        "    if not file_name.lower().endswith('.jpg'):\n",
        "        print(\"Error: Please upload the addhar card in the jpg format only.\")\n",
        "    else:\n",
        "        print(f\"File '{file_name}' addhar card uploaded successfully.\")\n",
        "\n",
        "\n",
        "\n",
        "#upload the jpg file from your system directly(choose files)."
      ],
      "metadata": {
        "id": "ernneXoeiJZc"
      },
      "execution_count": null,
      "outputs": []
    },
    {
      "cell_type": "markdown",
      "source": [
        "# Displaying  the Uploaded Image for Cross-Checking"
      ],
      "metadata": {
        "id": "LkztDoHmjb4i"
      }
    },
    {
      "cell_type": "code",
      "source": [
        "#Cross checking whether we have uploaded correct jpg file or not.\n",
        "from IPython.display import Image, display\n",
        "display(Image(file_name, width=200))"
      ],
      "metadata": {
        "id": "0iHqprPDiJ_D",
        "collapsed": true
      },
      "execution_count": null,
      "outputs": []
    },
    {
      "cell_type": "markdown",
      "source": [
        "# Image Reading and  Grayscale convetion Preprocess."
      ],
      "metadata": {
        "id": "RghDoZZFiphb"
      }
    },
    {
      "cell_type": "code",
      "source": [
        "#Converting in to Grayscale and Thresholding to Enhance Image Clarity for Better Text Detection.\n",
        "image = cv2.imread(file_name)\n",
        "gray = cv2.cvtColor(image, cv2.COLOR_BGR2GRAY)                                         # Coverting in to grayscale\n",
        "gray = cv2.threshold(gray, 0, 255, cv2.THRESH_BINARY + cv2.THRESH_OTSU)[1]             # Applying Thresholding its  optional but improves accuracy\n",
        "\n",
        "\n",
        "\n",
        "import matplotlib.pyplot as plt       #Display the Grayscale Image\n",
        "plt.imshow(gray, cmap='gray')\n",
        "plt.axis('off')\n",
        "plt.title(' Grayscale Preprocessed Image')\n",
        "plt.show()\n"
      ],
      "metadata": {
        "id": "9192-3HLlxPE",
        "collapsed": true
      },
      "execution_count": null,
      "outputs": []
    },
    {
      "cell_type": "markdown",
      "source": [
        "#Text Extraction using OCR"
      ],
      "metadata": {
        "id": "MmrK7_rDiyry"
      }
    },
    {
      "cell_type": "code",
      "source": [
        "# Moving the downloaded Telugu language file to the tessdata folder\n",
        "# Without this step, Tesseract will not detect Telugu text.\n",
        "!mv /content/tel.traineddata /usr/share/tesseract-ocr/4.00/tessdata/\n"
      ],
      "metadata": {
        "colab": {
          "base_uri": "https://localhost:8080/"
        },
        "id": "9GBiPPLKxYuY",
        "outputId": "be930249-9ac4-4483-91c3-1490d6b6996e"
      },
      "execution_count": null,
      "outputs": [
        {
          "output_type": "stream",
          "name": "stdout",
          "text": [
            "mv: cannot stat '/content/tel.traineddata': No such file or directory\n"
          ]
        }
      ]
    },
    {
      "cell_type": "code",
      "source": [
        "# Listing all the languages currently available in Tesseract OCR.\n",
        "# If 'tel' appears in the list, Telugu text extraction can proceed.\n",
        "!tesseract --list-langs"
      ],
      "metadata": {
        "colab": {
          "base_uri": "https://localhost:8080/"
        },
        "id": "NuDl2mKUwNgL",
        "outputId": "62bf5017-e5e5-457e-bf54-0551f063c156"
      },
      "execution_count": null,
      "outputs": [
        {
          "output_type": "stream",
          "name": "stdout",
          "text": [
            "List of available languages (3):\n",
            "eng\n",
            "osd\n",
            "tel\n"
          ]
        }
      ]
    },
    {
      "cell_type": "code",
      "source": [
        "# Extract English and Telugu Text using OCR    #by using the oem 3 --psm 6 we can imporve the  accuracy and efficiency of text extraction.\n",
        "extracted_text = pytesseract.image_to_string(gray, lang='eng+tel', config='--oem 3 --psm 6')"
      ],
      "metadata": {
        "id": "VmDjoJuziz0k"
      },
      "execution_count": null,
      "outputs": []
    },
    {
      "cell_type": "markdown",
      "source": [
        "#Drawing the bounding boxes around the extracted text."
      ],
      "metadata": {
        "id": "2-Hyg9_m2on0"
      }
    },
    {
      "cell_type": "code",
      "source": [
        "#Drawing the bounded box around what text we extracted form the given jpg file\n",
        "details = pytesseract.image_to_data(image, output_type=pytesseract.Output.DICT, lang='eng+tel', config='--oem 3 --psm 6')\n",
        "n_boxes = len(details['level'])                                                                          # Draw bounding boxes\n",
        "for i in range(n_boxes):\n",
        "    (x, y, w, h) = (details['left'][i], details['top'][i], details['width'][i], details['height'][i])\n",
        "    if int(details['conf'][i]) > 30:                                                                     # Confidence threshold\n",
        "        cv2.rectangle(image, (x, y), (x + w, y + h), (0, 255, 0), 2)"
      ],
      "metadata": {
        "id": "7GZNfiKf1BSW"
      },
      "execution_count": null,
      "outputs": []
    },
    {
      "cell_type": "code",
      "source": [
        "# Resized  the image to 500 pixels width before displaying\n",
        "target_width = 500\n",
        "height, width = image.shape[:2]\n",
        "aspect_ratio = target_width / width\n",
        "new_dimensions = (target_width, int(height * aspect_ratio))\n",
        "resized_image = cv2.resize(image, new_dimensions, interpolation=cv2.INTER_AREA)\n",
        "\n",
        "# Displaying  the resized image with bounding boxes.\n",
        "from google.colab.patches import cv2_imshow\n",
        "cv2_imshow(resized_image)\n"
      ],
      "metadata": {
        "id": "5YpKPTbg1bkz",
        "collapsed": true
      },
      "execution_count": null,
      "outputs": []
    },
    {
      "cell_type": "markdown",
      "source": [
        "#Display Output"
      ],
      "metadata": {
        "id": "JzmOoqDmi20h"
      }
    },
    {
      "cell_type": "code",
      "source": [
        "#Display Extracted Text\n",
        "print(\"Extracted Text from the Uploaded Image:\")\n",
        "print(extracted_text)"
      ],
      "metadata": {
        "id": "mgQ6pxiHi5eO",
        "collapsed": true
      },
      "execution_count": null,
      "outputs": []
    },
    {
      "cell_type": "markdown",
      "source": [
        "#Saving the extracted text"
      ],
      "metadata": {
        "id": "V8OFhW_el19V"
      }
    },
    {
      "cell_type": "code",
      "source": [
        "# saving the extracted text from the jpg image\n",
        "file_name = \"Extracted_Text_Addhar_Eng_Tel.txt\"\n",
        "with open(file_name, \"w\") as file:\n",
        "   file.write(extracted_text)\n",
        "\n",
        "print(f\" Text successfully saved to '{file_name}'\")"
      ],
      "metadata": {
        "id": "n0_o61HhoXN7"
      },
      "execution_count": null,
      "outputs": []
    },
    {
      "cell_type": "markdown",
      "source": [
        "#Create a download link for the file"
      ],
      "metadata": {
        "id": "LJkEvWLZmEW-"
      }
    },
    {
      "cell_type": "code",
      "source": [
        "#Create a download link for the extracted text for our access and further analysis in to our system\n",
        "from google.colab import files\n",
        "files.download(file_name)\n"
      ],
      "metadata": {
        "id": "Octiid_Fopts"
      },
      "execution_count": null,
      "outputs": []
    }
  ]
}